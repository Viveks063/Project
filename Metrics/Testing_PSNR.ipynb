{
  "nbformat": 4,
  "nbformat_minor": 0,
  "metadata": {
    "colab": {
      "provenance": []
    },
    "kernelspec": {
      "name": "python3",
      "display_name": "Python 3"
    },
    "language_info": {
      "name": "python"
    }
  },
  "cells": [
    {
      "cell_type": "code",
      "execution_count": null,
      "metadata": {
        "colab": {
          "base_uri": "https://localhost:8080/"
        },
        "id": "fl_RYHACz5Uq",
        "outputId": "bdd360d4-d692-42c5-b7c9-374de9a32993"
      },
      "outputs": [
        {
          "output_type": "execute_result",
          "data": {
            "text/plain": [
              "True"
            ]
          },
          "metadata": {},
          "execution_count": 14
        }
      ],
      "source": [
        "\n",
        "import random\n",
        "import cv2\n",
        " \n",
        "def add_noise(img):\n",
        " \n",
        "    # Getting the dimensions of the image\n",
        "    row , col = img.shape\n",
        "     \n",
        "    # Randomly pick some pixels in the\n",
        "    # image for coloring them white\n",
        "    # Pick a random number between 300 and 10000\n",
        "    number_of_pixels = random.randint(300, 2000)\n",
        "    for i in range(number_of_pixels):\n",
        "       \n",
        "        x_coord=random.randint(0, row - 1)\n",
        "         \n",
        "        # Pick a random x coordinate\n",
        "        y_coord=random.randint(0, col - 1)\n",
        "         \n",
        "        # Color that pixel to black\n",
        "        directions=[[1,0],[-1,0],[0,1],[0,-1],[1,1],[1,-1],[-1,-1],[-1,1]]\n",
        "        for i,j in directions:\n",
        "          dr,dc=x_coord+i,y_coord+j\n",
        "          if dr in range(row) and dc in range(col):\n",
        "            img[dr][dc] = 255\n",
        "         \n",
        "    # Randomly pick some pixels in\n",
        "    # the image for coloring them black\n",
        "    # Pick a random number between 300 and 10000\n",
        "    number_of_pixels = random.randint(300 , 2000)\n",
        "    for i in range(number_of_pixels):\n",
        "       \n",
        "        # Pick a random y coordinate\n",
        "        x_coord=random.randint(0, row - 1)\n",
        "         \n",
        "        # Pick a random x coordinate\n",
        "        y_coord=random.randint(0, col - 1)\n",
        "         \n",
        "        # Color that pixel to black\n",
        "        directions=[[1,0],[-1,0],[0,1],[0,-1],[1,1],[1,-1],[-1,-1],[-1,1]]\n",
        "        for i,j in directions:\n",
        "          dr,dc=x_coord+i,y_coord+j\n",
        "          if dr in range(row) and dc in range(col):\n",
        "            img[dr][dc] = 0\n",
        "    return img\n",
        " \n",
        "# salt-and-pepper noise can\n",
        "# be applied only to grayscale images\n",
        "# Reading the color image in grayscale image\n",
        "img = cv2.imread('/content/drive/MyDrive/Capstone Project/Research Papers/Images/testing/test.png',\n",
        "                 cv2.IMREAD_GRAYSCALE)\n",
        " \n",
        "#Storing the image\n",
        "cv2.imwrite('/content/drive/MyDrive/Capstone Project/Research Papers/Images/testing/noise.png',\n",
        "            add_noise(img))"
      ]
    },
    {
      "cell_type": "code",
      "source": [
        "#Connected Components\n",
        "import cv2\n",
        "import numpy as np\n",
        "from google.colab.patches import cv2_imshow \n",
        " \n",
        "# Loading the image\n",
        "img = cv2.imread('/content/drive/MyDrive/Capstone Project/Research Papers/Images/testing/noise.png')\n",
        "#cv2_imshow(img) \n",
        "# preprocess the image\n",
        "gray_img = cv2.cvtColor(img ,\n",
        "                        cv2.COLOR_BGR2GRAY)\n",
        " \n",
        "# Applying 3x3 Gaussian Blur\n",
        "blurred = cv2.GaussianBlur(gray_img, (3, 3), 0)\n",
        " \n",
        "# Applying threshold\n",
        "threshold = cv2.threshold(blurred, 0, 255,\n",
        "    cv2.THRESH_BINARY_INV | cv2.THRESH_OTSU)[1]\n",
        " \n",
        "# Apply the Component analysis function\n",
        "analysis = cv2.connectedComponentsWithStats(threshold,\n",
        "                                            4,\n",
        "                                            cv2.CV_32S)\n",
        "(totalLabels, label_ids, values, centroid) = analysis\n",
        " \n",
        "# Initialize a new image to\n",
        "# store all the output components\n",
        "output = np.zeros(gray_img.shape, dtype=\"uint8\")\n",
        " \n",
        "# Loop through each component\n",
        "for i in range(1, totalLabels):\n",
        "    \n",
        "      # Area of the component\n",
        "    area = values[i, cv2.CC_STAT_AREA]\n",
        "        #print(area) \n",
        "    if (area > 50):\n",
        "        # Create a new image for bounding boxes\n",
        "        new_img=img.copy()\n",
        "         \n",
        "        # Now extract the coordinate points\n",
        "        x1 = values[i, cv2.CC_STAT_LEFT]\n",
        "        y1 = values[i, cv2.CC_STAT_TOP]\n",
        "        w = values[i, cv2.CC_STAT_WIDTH]\n",
        "        h = values[i, cv2.CC_STAT_HEIGHT]\n",
        "         \n",
        "        # Coordinate of the bounding box\n",
        "        pt1 = (x1, y1)\n",
        "        pt2 = (x1+ w, y1+ h)\n",
        "        (X, Y) = centroid[i]\n",
        "         \n",
        "        # Bounding boxes for each component\n",
        "        cv2.rectangle(new_img,pt1,pt2,\n",
        "                      (0, 255, 0), 3)\n",
        "        cv2.circle(new_img, (int(X),\n",
        "                             int(Y)),\n",
        "                   4, (0, 0, 255), -1)\n",
        " \n",
        "        # Create a new array to show individual component\n",
        "        component = np.zeros(gray_img.shape, dtype=\"uint8\")\n",
        "        componentMask = (label_ids == i).astype(\"uint8\") * 255\n",
        " \n",
        "        # Apply the mask using the bitwise operator\n",
        "        component = cv2.bitwise_or(component,componentMask)\n",
        "        output = cv2.bitwise_or(output, componentMask)\n",
        "         \n",
        "        # Show the final images\n",
        "        #cv2_imshow(new_img)\n",
        "        #cv2_imshow(component)\n",
        "output=255-output\n",
        "cv2_imshow(output)\n",
        "cv2.imwrite('/content/drive/MyDrive/Capstone Project/Research Papers/Images/testing/cc.png',output)"
      ],
      "metadata": {
        "colab": {
          "base_uri": "https://localhost:8080/",
          "height": 474
        },
        "id": "vnpzuuwc2l-O",
        "outputId": "8761e37d-be88-4663-ab6e-0c682547a085"
      },
      "execution_count": null,
      "outputs": [
        {
          "output_type": "display_data",
          "data": {
            "text/plain": [
              "<PIL.Image.Image image mode=L size=700x440 at 0x7F25B0C65390>"
            ],
            "image/png": "[encoded data removed]"
          },
          "metadata": {}
        },
        {
          "output_type": "execute_result",
          "data": {
            "text/plain": [
              "True"
            ]
          },
          "metadata": {},
          "execution_count": 15
        }
      ]
    },
    {
      "cell_type": "code",
      "source": [
        "#original and noise\n",
        "from math import log10, sqrt\n",
        "import cv2\n",
        "import numpy as np\n",
        "  \n",
        "def PSNR(original, compressed):\n",
        "    mse = np.mean((original - compressed) ** 2)\n",
        "    print(mse)\n",
        "    if(mse == 0):  # MSE is zero means no noise is present in the signal .\n",
        "                  # Therefore PSNR have no importance.\n",
        "        return 100\n",
        "    max_pixel = 255.0\n",
        "    psnr = 20 * log10(max_pixel / sqrt(mse))\n",
        "    return psnr\n",
        "  \n",
        "def main():\n",
        "     original = cv2.imread(\"/content/drive/MyDrive/Capstone Project/Research Papers/Images/testing/test.png\")\n",
        "     compressed = cv2.imread('/content/drive/MyDrive/Capstone Project/Research Papers/Images/testing/noise.png')\n",
        "     value = PSNR(original, compressed)\n",
        "     print(f\"PSNR value is {value} dB\")\n",
        "       \n",
        "if __name__ == \"__main__\":\n",
        "    main()"
      ],
      "metadata": {
        "colab": {
          "base_uri": "https://localhost:8080/"
        },
        "id": "YqBA8Cc347h-",
        "outputId": "3e0e8ef2-9c2c-46fa-d164-855cfb3e1677"
      },
      "execution_count": null,
      "outputs": [
        {
          "output_type": "stream",
          "name": "stdout",
          "text": [
            "1.0453506493506493\n",
            "PSNR value is 47.93818367517312 dB\n"
          ]
        }
      ]
    },
    {
      "cell_type": "code",
      "source": [
        "#original and cc\n",
        "from math import log10, sqrt\n",
        "import cv2\n",
        "import numpy as np\n",
        "  \n",
        "def PSNR(original, compressed):\n",
        "    mse = np.mean((original - compressed) ** 2)\n",
        "    print(mse)\n",
        "    if(mse == 0):  # MSE is zero means no noise is present in the signal .\n",
        "                  # Therefore PSNR have no importance.\n",
        "        return 100\n",
        "    max_pixel = 255.0\n",
        "    psnr = 20 * log10(max_pixel / sqrt(mse))\n",
        "    return psnr\n",
        "  \n",
        "def main():\n",
        "     original = cv2.imread(\"/content/drive/MyDrive/Capstone Project/Research Papers/Images/testing/test.png\")\n",
        "     compressed = cv2.imread('/content/drive/MyDrive/Capstone Project/Research Papers/Images/testing/cc.png')\n",
        "     value = PSNR(original, compressed)\n",
        "     print(f\"PSNR value is {value} dB\")\n",
        "       \n",
        "if __name__ == \"__main__\":\n",
        "    main()"
      ],
      "metadata": {
        "colab": {
          "base_uri": "https://localhost:8080/"
        },
        "id": "bbdLE2gN5sOX",
        "outputId": "28b36e40-6f92-42b9-dbbf-cf403899746b"
      },
      "execution_count": null,
      "outputs": [
        {
          "output_type": "stream",
          "name": "stdout",
          "text": [
            "17.747324675324677\n",
            "PSNR value is 35.639474663676836 dB\n"
          ]
        }
      ]
    }
  ]
}