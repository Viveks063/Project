{
  "cells": [
    {
      "cell_type": "code",
      "execution_count": null,
      "metadata": {
        "colab": {
          "base_uri": "https://localhost:8080/",
          "height": 763
        },
        "id": "f6HRSyocZK0Z",
        "outputId": "a0c5eee4-90de-47f0-dbd2-ab359ad6d8f6"
      },
      "outputs": [
        {
          "output_type": "stream",
          "name": "stdout",
          "text": [
            "[[255 255 255 ... 255 255 255]\n",
            " [255 255 255 ... 255 255 255]\n",
            " [255 255 255 ... 255 255 255]\n",
            " ...\n",
            " [255 255 255 ... 255 255 255]\n",
            " [255 255 255 ... 255 255 255]\n",
            " [255 255 255 ... 255 255 255]]\n"
          ]
        },
        {
          "output_type": "display_data",
          "data": {
            "text/plain": [
              "<PIL.Image.Image image mode=L size=623x607 at 0x7F8F70774910>"
            ],
            "image/png": "[encoded data removed]"
          },
          "metadata": {}
        },
        {
          "output_type": "execute_result",
          "data": {
            "text/plain": [
              "False"
            ]
          },
          "metadata": {},
          "execution_count": 1
        }
      ],
      "source": [
        "import cv2\n",
        "import numpy as np\n",
        "from google.colab.patches import cv2_imshow \n",
        " \n",
        "# Loading the image\n",
        "img = cv2.imread('/content/drive/MyDrive/Capstone Project/Research Papers/Images/new_images/mb3_result.jpeg')\n",
        "#cv2_imshow(img) \n",
        "# preprocess the image\n",
        "gray_img = cv2.cvtColor(img ,\n",
        "                        cv2.COLOR_BGR2GRAY)\n",
        " \n",
        "# Applying 3x3 Gaussian Blur\n",
        "blurred = cv2.GaussianBlur(gray_img, (3, 3), 0)\n",
        " \n",
        "# Applying threshold\n",
        "threshold = cv2.threshold(blurred, 0, 255,\n",
        "    cv2.THRESH_BINARY_INV | cv2.THRESH_OTSU)[1]\n",
        "print(threshold)\n",
        "# Apply the Component analysis function\n",
        "analysis = cv2.connectedComponentsWithStats(threshold,\n",
        "                                            4,\n",
        "                                            cv2.CV_32S)\n",
        "(totalLabels, label_ids, values, centroid) = analysis\n",
        " \n",
        "# Initialize a new image to\n",
        "# store all the output components\n",
        "output = np.zeros(gray_img.shape, dtype=\"uint8\")\n",
        " \n",
        "# Loop through each component\n",
        "for i in range(1, totalLabels):\n",
        "    \n",
        "      # Area of the component\n",
        "    area = values[i, cv2.CC_STAT_AREA]\n",
        "        #print(area) \n",
        "    if (area > 50):\n",
        "        # Create a new image for bounding boxes\n",
        "        new_img=img.copy()\n",
        "         \n",
        "        # Now extract the coordinate points\n",
        "        x1 = values[i, cv2.CC_STAT_LEFT]\n",
        "        y1 = values[i, cv2.CC_STAT_TOP]\n",
        "        w = values[i, cv2.CC_STAT_WIDTH]\n",
        "        h = values[i, cv2.CC_STAT_HEIGHT]\n",
        "         \n",
        "        # Coordinate of the bounding box\n",
        "        pt1 = (x1, y1)\n",
        "        pt2 = (x1+ w, y1+ h)\n",
        "        (X, Y) = centroid[i]\n",
        "         \n",
        "        # Bounding boxes for each component\n",
        "        cv2.rectangle(new_img,pt1,pt2,\n",
        "                      (0, 255, 0), 3)\n",
        "        cv2.circle(new_img, (int(X),\n",
        "                             int(Y)),\n",
        "                   4, (0, 0, 255), -1)\n",
        " \n",
        "        # Create a new array to show individual component\n",
        "        component = np.zeros(gray_img.shape, dtype=\"uint8\")\n",
        "        componentMask = (label_ids == i).astype(\"uint8\") * 255\n",
        " \n",
        "        # Apply the mask using the bitwise operator\n",
        "        component = cv2.bitwise_or(component,componentMask)\n",
        "        output = cv2.bitwise_or(output, componentMask)\n",
        "         \n",
        "        # Show the final images\n",
        "        #cv2_imshow(new_img)\n",
        "        #cv2_imshow(component)\n",
        "cv2_imshow(output)\n",
        "cv2.imwrite('/content/drive/MyDrive/Capstone Project/Research Papers/Images/connected_components_result/mb3_result.jpeg',output)\n",
        "        #print(area)\n",
        "        #print('------------------------------------------')"
      ]
    },
    {
      "cell_type": "code",
      "source": [],
      "metadata": {
        "id": "TG0VcnWpmdV-"
      },
      "execution_count": null,
      "outputs": []
    },
    {
      "cell_type": "code",
      "execution_count": null,
      "metadata": {
        "id": "FZiEmftsbJgK"
      },
      "outputs": [],
      "source": []
    },
    {
      "cell_type": "code",
      "execution_count": null,
      "metadata": {
        "colab": {
          "base_uri": "https://localhost:8080/"
        },
        "id": "-EIl2F9ebJi1",
        "outputId": "5989eadb-3dd5-41c2-b7e7-3a7ccbf246b9"
      },
      "outputs": [
        {
          "name": "stdout",
          "output_type": "stream",
          "text": [
            "Looking in indexes: https://pypi.org/simple, https://us-python.pkg.dev/colab-wheels/public/simple/\n",
            "Requirement already satisfied: opencv-contrib-python in /usr/local/lib/python3.7/dist-packages (4.6.0.66)\n",
            "Requirement already satisfied: numpy>=1.14.5 in /usr/local/lib/python3.7/dist-packages (from opencv-contrib-python) (1.21.6)\n"
          ]
        }
      ],
      "source": [
        "!pip install opencv-contrib-python"
      ]
    },
    {
      "cell_type": "code",
      "execution_count": null,
      "metadata": {
        "id": "BIRIkmWWbJnB"
      },
      "outputs": [],
      "source": [
        "threshold = cv2.threshold(blurred, 0, 255,\n",
        "cv2.THRESH_BINARY_INV | cv2.THRESH_OTSU)[1]"
      ]
    },
    {
      "cell_type": "code",
      "execution_count": null,
      "metadata": {
        "id": "NF6hj8MZbJpn"
      },
      "outputs": [],
      "source": []
    },
    {
      "cell_type": "code",
      "execution_count": null,
      "metadata": {
        "id": "xoDWB7bJbJrx"
      },
      "outputs": [],
      "source": []
    },
    {
      "cell_type": "code",
      "execution_count": null,
      "metadata": {
        "id": "B-DHw5NDbJuJ"
      },
      "outputs": [],
      "source": []
    }
  ],
  "metadata": {
    "colab": {
      "provenance": []
    },
    "kernelspec": {
      "display_name": "Python 3",
      "name": "python3"
    },
    "language_info": {
      "name": "python"
    }
  },
  "nbformat": 4,
  "nbformat_minor": 0
}